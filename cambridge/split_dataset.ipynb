{
 "cells": [
  {
   "cell_type": "markdown",
   "metadata": {},
   "source": [
    "## Split original train set into train/val sets"
   ]
  },
  {
   "cell_type": "code",
   "execution_count": 4,
   "metadata": {},
   "outputs": [
    {
     "name": "stdout",
     "output_type": "stream",
     "text": [
      ">>>>ShopFacade {'seq2': 231}\n",
      "Val step 6 Train: 193 Val: 38\n",
      ">>>>KingsCollege {'seq1': 261, 'seq4': 489, 'seq5': 142, 'seq6': 249, 'seq8': 79}\n",
      "Val step 6 Train: 1019 Val: 201\n",
      ">>>>StMarysChurch {'seq1': 223, 'seq10': 88, 'seq11': 23, 'seq12': 188, 'seq14': 36, 'seq2': 352, 'seq4': 329, 'seq6': 48, 'seq7': 80, 'seq8': 22, 'seq9': 98}\n",
      "Val step 6 Train: 1246 Val: 241\n",
      ">>>>OldHospital {'seq1': 301, 'seq2': 157, 'seq3': 85, 'seq5': 68, 'seq6': 87, 'seq7': 76, 'seq9': 121}\n",
      "Val step 6 Train: 748 Val: 147\n"
     ]
    }
   ],
   "source": [
    "import os\n",
    "base_dir = '../data/CambridgeLandmarks_256/'\n",
    "datasets = ['ShopFacade', 'KingsCollege', 'StMarysChurch', 'OldHospital']\n",
    "val_step = 6\n",
    "\n",
    "for dataset in datasets:\n",
    "    counts = {}\n",
    "    seq_lines = {}\n",
    "    with open(os.path.join(base_dir, dataset, 'dataset_train.txt'), 'r') as f:\n",
    "        lines = sorted(f.readlines())\n",
    "        for line in lines:\n",
    "            if not line.startswith('seq'):\n",
    "                continue\n",
    "            seq = line.split()[0].split('/')[0]\n",
    "            if seq not in counts:\n",
    "                counts[seq] = 0\n",
    "                seq_lines[seq] = []\n",
    "            counts[seq] += 1\n",
    "            seq_lines[seq].append(line)\n",
    "    print('>>>>{} {}'.format(dataset,counts))\n",
    "\n",
    "    val_lines = []\n",
    "    train_lines = []\n",
    "    for seq in counts:\n",
    "        num = counts[seq]\n",
    "        for i,line in enumerate(seq_lines[seq]):\n",
    "            if i % val_step == 0 and i > 0:\n",
    "                val_lines.append(line)\n",
    "            else:\n",
    "                train_lines.append(line)\n",
    "    print('Val step {} Train: {} Val: {}'.format(val_step, len(train_lines), len(val_lines)))\n",
    "\n",
    "    train = open(os.path.join(base_dir, dataset, 'train.step.txt'), 'w')\n",
    "    train.writelines(train_lines)\n",
    "    val = open(os.path.join(base_dir, dataset, 'val.step.txt'), 'w')\n",
    "    val.writelines(val_lines)\n",
    "    train.close()\n",
    "    val.close()"
   ]
  }
 ],
 "metadata": {
  "kernelspec": {
   "display_name": "Python 3",
   "language": "python",
   "name": "python3"
  },
  "language_info": {
   "codemirror_mode": {
    "name": "ipython",
    "version": 3
   },
   "file_extension": ".py",
   "mimetype": "text/x-python",
   "name": "python",
   "nbconvert_exporter": "python",
   "pygments_lexer": "ipython3",
   "version": "3.6.4"
  }
 },
 "nbformat": 4,
 "nbformat_minor": 2
}
