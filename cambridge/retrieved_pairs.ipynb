{
 "cells": [
  {
   "cell_type": "markdown",
   "metadata": {},
   "source": [
    "## Generate training/validation pairs"
   ]
  },
  {
   "cell_type": "code",
   "execution_count": 18,
   "metadata": {},
   "outputs": [
    {
     "name": "stdout",
     "output_type": "stream",
     "text": [
      "The autoreload extension is already loaded. To reload it, use:\n",
      "  %reload_ext autoreload\n",
      "SampleSchema: outdoor-unsampled-None\n",
      "Dataset ShopFacade write to train_pairs.30nn.unsampled.txt, pair num 5790\n",
      "Dataset KingsCollege write to train_pairs.30nn.unsampled.txt, pair num 30570\n",
      "Dataset OldHospital write to train_pairs.30nn.unsampled.txt, pair num 22440\n",
      "Dataset StMarysChurch write to train_pairs.30nn.unsampled.txt, pair num 37380\n"
     ]
    }
   ],
   "source": [
    "%load_ext autoreload\n",
    "%autoreload 2\n",
    "import sys\n",
    "sys.path.append('..')\n",
    "import os\n",
    "import numpy as np\n",
    "from utils.util import *\n",
    "\n",
    "datasets = ['ShopFacade', 'KingsCollege', 'OldHospital', 'StMarysChurch']  \n",
    "base_dir = '/usr/stud/zhouq/Data/CambridgeLandmarks_256'\n",
    "npy_file = '../../cnnimageretrieval-pytorch/retreival_results/resnet101-gem/sfm120k-whiten/cambridge-train-val-step.npy'\n",
    "\n",
    "# Generate training pairs (train/val)\n",
    "generate_knn_pairs(base_dir, datasets, K=30, \n",
    "                   npy_file=npy_file, train_txt='train.step.txt', test_txt='train.step.txt', \n",
    "                   pair_type='train', scene_type='outdoor', sample_mode=None)\n",
    "\n",
    "# Generate val pairs (train/val)\n",
    "# generate_knn_pairs(base_dir, datasets, K=5, \n",
    "#                    npy_file=npy_file, train_txt='train.step.txt', test_txt='val.step.txt', \n",
    "#                    pair_type='val', scene_type='outdoor', sample_mode='medium')\n"
   ]
  },
  {
   "cell_type": "markdown",
   "metadata": {},
   "source": [
    "## Generate testing pairs without sampling"
   ]
  },
  {
   "cell_type": "code",
   "execution_count": 14,
   "metadata": {},
   "outputs": [
    {
     "name": "stdout",
     "output_type": "stream",
     "text": [
      "The autoreload extension is already loaded. To reload it, use:\n",
      "  %reload_ext autoreload\n",
      "SampleSchema: outdoor-unsampled-None\n",
      "Dataset ShopFacade write to test_pairs.20nn.unsampled.txt, pair num 2060\n",
      "Dataset KingsCollege write to test_pairs.20nn.unsampled.txt, pair num 6860\n",
      "Dataset OldHospital write to test_pairs.20nn.unsampled.txt, pair num 3640\n",
      "Dataset StMarysChurch write to test_pairs.20nn.unsampled.txt, pair num 10600\n"
     ]
    }
   ],
   "source": [
    "%load_ext autoreload\n",
    "%autoreload 2\n",
    "import sys\n",
    "sys.path.append('..')\n",
    "import os\n",
    "import numpy as np\n",
    "from utils.util import *\n",
    "\n",
    "datasets = ['ShopFacade', 'KingsCollege', 'OldHospital', 'StMarysChurch']  \n",
    "base_dir = '/usr/stud/zhouq/Data/CambridgeLandmarks_256'\n",
    "npy_file = '../../cnnimageretrieval-pytorch/retreival_results/resnet101-gem/sfm120k-whiten/cambridge-train-test.npy'\n",
    "\n",
    "# Generate testing pairs (train/test)\n",
    "generate_knn_pairs(base_dir, datasets, K=20, \n",
    "                   npy_file=npy_file, train_txt='dataset_train.txt', test_txt='dataset_test.txt',\n",
    "                   pair_type='test', scene_type='outdoor', sample_mode=None)\n"
   ]
  }
 ],
 "metadata": {
  "kernelspec": {
   "display_name": "Python 3",
   "language": "python",
   "name": "python3"
  },
  "language_info": {
   "codemirror_mode": {
    "name": "ipython",
    "version": 3
   },
   "file_extension": ".py",
   "mimetype": "text/x-python",
   "name": "python",
   "nbconvert_exporter": "python",
   "pygments_lexer": "ipython3",
   "version": "3.6.4"
  }
 },
 "nbformat": 4,
 "nbformat_minor": 2
}
