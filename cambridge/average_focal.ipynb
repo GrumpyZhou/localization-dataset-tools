{
 "cells": [
  {
   "cell_type": "code",
   "execution_count": 1,
   "metadata": {},
   "outputs": [
    {
     "name": "stdout",
     "output_type": "stream",
     "text": [
      ">> Avg focal of ShopFacade: 1672.14\n",
      ">> Avg focal of KingsCollege: 1673.05\n",
      ">> Avg focal of OldHospital: 1660.34\n",
      ">> Avg focal of StMarysChurch: 1667.45\n",
      ">>> Cambridge focal average: 1667.98\n"
     ]
    }
   ],
   "source": [
    "import numpy as np\n",
    "import os\n",
    "datasets = ['ShopFacade', 'KingsCollege', 'OldHospital', 'StMarysChurch']  \n",
    "all_focals = []\n",
    "for dataset in datasets:\n",
    "    nvm = os.path.join('../data/CambridgeLandmarks', dataset,'reconstruction.nvm')\n",
    "    with open(nvm, 'r') as f:\n",
    "        f.readline()   # Skip headding lines\n",
    "        f.readline()\n",
    "        cam_num = int(f.readline().split()[0])\n",
    "        focals = []\n",
    "        for i in range(cam_num):\n",
    "            line = f.readline()\n",
    "            focal = float(line.split()[1])\n",
    "            focals.append(focal)\n",
    "        print('>> Avg focal of {}: {:.2f}'.format(dataset, np.mean(focals)))\n",
    "        all_focals += focals\n",
    "print('>>> Cambridge focal average: {:.2f}'.format(np.mean(all_focals)))"
   ]
  }
 ],
 "metadata": {
  "kernelspec": {
   "display_name": "Python 3",
   "language": "python",
   "name": "python3"
  },
  "language_info": {
   "codemirror_mode": {
    "name": "ipython",
    "version": 3
   },
   "file_extension": ".py",
   "mimetype": "text/x-python",
   "name": "python",
   "nbconvert_exporter": "python",
   "pygments_lexer": "ipython3",
   "version": "3.6.4"
  }
 },
 "nbformat": 4,
 "nbformat_minor": 2
}
