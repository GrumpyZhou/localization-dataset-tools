{
 "cells": [
  {
   "cell_type": "markdown",
   "metadata": {},
   "source": [
    "## Generate training/validation pairs"
   ]
  },
  {
   "cell_type": "code",
   "execution_count": 3,
   "metadata": {},
   "outputs": [
    {
     "name": "stdout",
     "output_type": "stream",
     "text": [
      "The autoreload extension is already loaded. To reload it, use:\n",
      "  %reload_ext autoreload\n",
      "SampleSchema: indoor-medium-Sampler(portion 0.5, target number 4, ratios [0.25, 0.35, 0.3, 0.1])\n",
      "Dataset chess write to train_pairs.3nn.medium.txt, pair num 9012\n",
      "Dataset fire write to train_pairs.3nn.medium.txt, pair num 4506\n",
      "Dataset office write to train_pairs.3nn.medium.txt, pair num 13518\n",
      "Dataset pumpkin write to train_pairs.3nn.medium.txt, pair num 9012\n",
      "Dataset redkitchen write to train_pairs.3nn.medium.txt, pair num 15771\n",
      "Dataset stairs write to train_pairs.3nn.medium.txt, pair num 4512\n",
      "Dataset heads write to train_pairs.3nn.medium.txt, pair num 2253\n",
      "SampleSchema: indoor-medium-Sampler(portion 0.5, target number 4, ratios [0.25, 0.35, 0.3, 0.1])\n",
      "Dataset chess write to val_pairs.3nn.medium.txt, pair num 2988\n",
      "Dataset fire write to val_pairs.3nn.medium.txt, pair num 1494\n",
      "Dataset office write to val_pairs.3nn.medium.txt, pair num 4482\n",
      "Dataset pumpkin write to val_pairs.3nn.medium.txt, pair num 2988\n",
      "Dataset redkitchen write to val_pairs.3nn.medium.txt, pair num 5229\n",
      "Dataset stairs write to val_pairs.3nn.medium.txt, pair num 1488\n",
      "Dataset heads write to val_pairs.3nn.medium.txt, pair num 747\n"
     ]
    }
   ],
   "source": [
    "%load_ext autoreload\n",
    "%autoreload 2\n",
    "import sys\n",
    "sys.path.append('..')\n",
    "import os\n",
    "import numpy as np\n",
    "from utils.util import *\n",
    "\n",
    "datasets = ['chess', 'fire', 'office', 'pumpkin', 'redkitchen', 'stairs', 'heads']\n",
    "base_dir = '/usr/stud/zhouq/Data/7Scenes_256/'\n",
    "npy_file = '../../cnnimageretrieval-pytorch/retreival_results/resnet101-gem/sfm120k/7scene-train-val-exp.npy'\n",
    "\n",
    "# Generate training pairs (train/val)\n",
    "generate_knn_pairs(base_dir, datasets, K=3, \n",
    "                   npy_file=npy_file, train_txt='train.exp.txt', test_txt='train.exp.txt', \n",
    "                   pair_type='train', scene_type='indoor', sample_mode='medium')\n",
    "\n",
    "# Generate val pairs (train/val)\n",
    "generate_knn_pairs(base_dir, datasets, K=3, \n",
    "                   npy_file=npy_file, train_txt='train.exp.txt', test_txt='val.exp.txt', \n",
    "                   pair_type='val', scene_type='indoor', sample_mode='medium')\n"
   ]
  },
  {
   "cell_type": "markdown",
   "metadata": {},
   "source": [
    "## Generate testing pairs without sampling"
   ]
  },
  {
   "cell_type": "code",
   "execution_count": 2,
   "metadata": {},
   "outputs": [
    {
     "name": "stdout",
     "output_type": "stream",
     "text": [
      "The autoreload extension is already loaded. To reload it, use:\n",
      "  %reload_ext autoreload\n",
      "SampleSchema: indoor-unsampled-None\n",
      "Dataset chess write to test_pairs.5nn.unsampled.txt, pair num 10000\n",
      "Dataset fire write to test_pairs.5nn.unsampled.txt, pair num 10000\n",
      "Dataset office write to test_pairs.5nn.unsampled.txt, pair num 20000\n",
      "Dataset pumpkin write to test_pairs.5nn.unsampled.txt, pair num 10000\n",
      "Dataset redkitchen write to test_pairs.5nn.unsampled.txt, pair num 25000\n",
      "Dataset stairs write to test_pairs.5nn.unsampled.txt, pair num 5000\n",
      "Dataset heads write to test_pairs.5nn.unsampled.txt, pair num 5000\n"
     ]
    }
   ],
   "source": [
    "%load_ext autoreload\n",
    "%autoreload 2\n",
    "import sys\n",
    "sys.path.append('..')\n",
    "import os\n",
    "import numpy as np\n",
    "from utils.util import *\n",
    "\n",
    "datasets = ['chess', 'fire', 'office', 'pumpkin', 'redkitchen', 'stairs', 'heads']\n",
    "base_dir = '/usr/stud/zhouq/Data/7Scenes_256/'\n",
    "npy_file = '../../cnnimageretrieval-pytorch/retreival_results/resnet101-gem/sfm120k/7scene-train-test.npy'\n",
    "\n",
    "# Generate testing pairs (train/test)\n",
    "generate_knn_pairs(base_dir, datasets, K=5, \n",
    "                   npy_file=npy_file, train_txt='dataset_train.txt', test_txt='dataset_test.txt', \n",
    "                   pair_type='test', scene_type='indoor', sample_mode=None)\n"
   ]
  }
 ],
 "metadata": {
  "kernelspec": {
   "display_name": "Python 3",
   "language": "python",
   "name": "python3"
  },
  "language_info": {
   "codemirror_mode": {
    "name": "ipython",
    "version": 3
   },
   "file_extension": ".py",
   "mimetype": "text/x-python",
   "name": "python",
   "nbconvert_exporter": "python",
   "pygments_lexer": "ipython3",
   "version": "3.6.4"
  }
 },
 "nbformat": 4,
 "nbformat_minor": 2
}
